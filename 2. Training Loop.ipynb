{
 "cells": [
  {
   "cell_type": "code",
   "execution_count": 1,
   "metadata": {},
   "outputs": [
    {
     "name": "stdout",
     "output_type": "stream",
     "text": [
      "WARNING:tensorflow:From c:\\Users\\Brendito\\AppData\\Local\\Programs\\Python\\Python311\\Lib\\site-packages\\keras\\src\\losses.py:2976: The name tf.losses.sparse_softmax_cross_entropy is deprecated. Please use tf.compat.v1.losses.sparse_softmax_cross_entropy instead.\n",
      "\n"
     ]
    }
   ],
   "source": [
    "import warnings\n",
    "warnings.filterwarnings(\"ignore\")\n",
    "\n",
    "# Import Torch, MONAI and other libraries\n",
    "import torch\n",
    "import torch.nn as nn\n",
    "import torch.optim as optim\n",
    "from torchvision.transforms import Compose, Normalize, ToTensor\n",
    "from torch.utils.data import DataLoader\n",
    "from torch.utils.tensorboard import SummaryWriter\n",
    "from monai.transforms import Compose, ScaleIntensity, EnsureChannelFirst, Resize, EnsureChannelFirstd\n",
    "from monai.networks.layers import Norm\n",
    "from monai.networks.nets import UNet\n",
    "from monai.losses import DiceLoss\n",
    "from monai.inferers import sliding_window_inference\n",
    "import os\n",
    "import matplotlib.pyplot as plt\n",
    "import numpy as np\n",
    "import pandas as pd\n",
    "\n",
    "# Set random seed\n",
    "torch.manual_seed(0)\n",
    "\n",
    "# Import custom classes/functions\n",
    "from cg_Dataset import load_data"
   ]
  },
  {
   "cell_type": "code",
   "execution_count": 2,
   "metadata": {},
   "outputs": [
    {
     "data": {
      "text/plain": [
       "device(type='cpu')"
      ]
     },
     "execution_count": 2,
     "metadata": {},
     "output_type": "execute_result"
    }
   ],
   "source": [
    "# Set device\n",
    "device = torch.device(\"cuda:0\" if torch.cuda.is_available() else \"cpu\")\n",
    "device"
   ]
  },
  {
   "cell_type": "code",
   "execution_count": 13,
   "metadata": {},
   "outputs": [],
   "source": [
    "# Transforms\n",
    "transforms_img = Compose([\n",
    "    # Scale the intensity of the image data\n",
    "    # ScaleIntensity(),\n",
    "    EnsureChannelFirst(channel_dim=-1),\n",
    "    \n",
    "    # Resize the image data to a uniform size, 128x128\n",
    "    Resize(spatial_size=(128, 128)),\n",
    "    \n",
    "    # Normalize the image data\n",
    "    #Normalize(mean=0.0, std=1.0),\n",
    "    \n",
    "    # Convert the image data to a tensor\n",
    "    # ToTensor(),\n",
    "])\n",
    "\n",
    "transforms_mask = Compose([\n",
    "    # Scale the intensity of the image data\n",
    "    # ScaleIntensity(),\n",
    "    \n",
    "    # Resize the image data to a uniform size, 128x128\n",
    "    Resize(spatial_size=(128, 128)),\n",
    "    \n",
    "    # Normalize the image data\n",
    "    #Normalize(mean=0.0, std=1.0),\n",
    "    \n",
    "    # Convert the image data to a tensor\n",
    "    # ToTensor(),\n",
    "])\n",
    "\n",
    "transforms = [transforms_img, transforms_mask]"
   ]
  },
  {
   "cell_type": "code",
   "execution_count": 14,
   "metadata": {},
   "outputs": [
    {
     "name": "stdout",
     "output_type": "stream",
     "text": [
      "Train data: 19535\n",
      "Val data: 2653\n"
     ]
    }
   ],
   "source": [
    "# Load data\n",
    "train_data = load_data(\"train\", asImage = False, filecount = 0, transform = transforms)\n",
    "val_data = load_data(\"val\", asImage = False, filecount = 0, transform = transforms)\n",
    "\n",
    "# Print the length of the training and validation data\n",
    "print(f\"Train data: {len(train_data)}\")\n",
    "print(f\"Val data: {len(val_data)}\")"
   ]
  },
  {
   "cell_type": "code",
   "execution_count": 17,
   "metadata": {},
   "outputs": [],
   "source": [
    "# Create a DataLoader for the training and validation data\n",
    "train_loader = DataLoader(train_data, batch_size=1, shuffle=True)\n",
    "val_loader = DataLoader(val_data, batch_size=1, shuffle=False)"
   ]
  }
 ],
 "metadata": {
  "kernelspec": {
   "display_name": "Python 3",
   "language": "python",
   "name": "python3"
  },
  "language_info": {
   "codemirror_mode": {
    "name": "ipython",
    "version": 3
   },
   "file_extension": ".py",
   "mimetype": "text/x-python",
   "name": "python",
   "nbconvert_exporter": "python",
   "pygments_lexer": "ipython3",
   "version": "3.11.5"
  }
 },
 "nbformat": 4,
 "nbformat_minor": 2
}
